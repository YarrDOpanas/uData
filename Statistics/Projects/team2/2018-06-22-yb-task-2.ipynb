{
 "cells": [
  {
   "cell_type": "markdown",
   "metadata": {},
   "source": [
    "__team-2__\n",
    "* Anastasia Sobkevich\n",
    "* Kateryna Repekh\n",
    "* Khrystyna Hranishak\n",
    "* Yehor Borkov"
   ]
  },
  {
   "cell_type": "code",
   "execution_count": 1,
   "metadata": {},
   "outputs": [],
   "source": [
    "%matplotlib inline\n",
    "\n",
    "import numpy as np\n",
    "import pandas as pd\n",
    "import statsmodels.api as sm\n",
    "import scipy.stats as sts\n",
    "import warnings; warnings.simplefilter('ignore')\n",
    "\n",
    "import matplotlib.pyplot as plt\n",
    "import seaborn as sns\n",
    "\n",
    "sns.set()"
   ]
  },
  {
   "cell_type": "code",
   "execution_count": 2,
   "metadata": {},
   "outputs": [
    {
     "data": {
      "text/html": [
       "<div>\n",
       "<style scoped>\n",
       "    .dataframe tbody tr th:only-of-type {\n",
       "        vertical-align: middle;\n",
       "    }\n",
       "\n",
       "    .dataframe tbody tr th {\n",
       "        vertical-align: top;\n",
       "    }\n",
       "\n",
       "    .dataframe thead th {\n",
       "        text-align: right;\n",
       "    }\n",
       "</style>\n",
       "<table border=\"1\" class=\"dataframe\">\n",
       "  <thead>\n",
       "    <tr style=\"text-align: right;\">\n",
       "      <th></th>\n",
       "      <th>Оптовий товарооборот, млн.грн</th>\n",
       "      <th>валовий внутрішній продукт, млн грн</th>\n",
       "    </tr>\n",
       "    <tr>\n",
       "      <th>роки</th>\n",
       "      <th></th>\n",
       "      <th></th>\n",
       "    </tr>\n",
       "  </thead>\n",
       "  <tbody>\n",
       "    <tr>\n",
       "      <th>2005</th>\n",
       "      <td>492506.2</td>\n",
       "      <td>457325</td>\n",
       "    </tr>\n",
       "    <tr>\n",
       "      <th>2006</th>\n",
       "      <td>631175.2</td>\n",
       "      <td>565018</td>\n",
       "    </tr>\n",
       "    <tr>\n",
       "      <th>2007</th>\n",
       "      <td>812160.5</td>\n",
       "      <td>751106</td>\n",
       "    </tr>\n",
       "    <tr>\n",
       "      <th>2008</th>\n",
       "      <td>998578.2</td>\n",
       "      <td>990819</td>\n",
       "    </tr>\n",
       "    <tr>\n",
       "      <th>2009</th>\n",
       "      <td>817532.4</td>\n",
       "      <td>947042</td>\n",
       "    </tr>\n",
       "    <tr>\n",
       "      <th>2010</th>\n",
       "      <td>993695.8</td>\n",
       "      <td>1120585</td>\n",
       "    </tr>\n",
       "    <tr>\n",
       "      <th>2011</th>\n",
       "      <td>1107283.4</td>\n",
       "      <td>1349178</td>\n",
       "    </tr>\n",
       "    <tr>\n",
       "      <th>2012</th>\n",
       "      <td>1093290.8</td>\n",
       "      <td>1459096</td>\n",
       "    </tr>\n",
       "    <tr>\n",
       "      <th>2013</th>\n",
       "      <td>1074753.2</td>\n",
       "      <td>1522657</td>\n",
       "    </tr>\n",
       "    <tr>\n",
       "      <th>2014</th>\n",
       "      <td>987957.0</td>\n",
       "      <td>1586915</td>\n",
       "    </tr>\n",
       "    <tr>\n",
       "      <th>2015</th>\n",
       "      <td>1244220.8</td>\n",
       "      <td>1988544</td>\n",
       "    </tr>\n",
       "    <tr>\n",
       "      <th>2016</th>\n",
       "      <td>1555965.7</td>\n",
       "      <td>2385367</td>\n",
       "    </tr>\n",
       "  </tbody>\n",
       "</table>\n",
       "</div>"
      ],
      "text/plain": [
       "      Оптовий товарооборот, млн.грн  валовий внутрішній продукт, млн грн\n",
       "роки                                                                    \n",
       "2005                       492506.2                               457325\n",
       "2006                       631175.2                               565018\n",
       "2007                       812160.5                               751106\n",
       "2008                       998578.2                               990819\n",
       "2009                       817532.4                               947042\n",
       "2010                       993695.8                              1120585\n",
       "2011                      1107283.4                              1349178\n",
       "2012                      1093290.8                              1459096\n",
       "2013                      1074753.2                              1522657\n",
       "2014                       987957.0                              1586915\n",
       "2015                      1244220.8                              1988544\n",
       "2016                      1555965.7                              2385367"
      ]
     },
     "execution_count": 2,
     "metadata": {},
     "output_type": "execute_result"
    }
   ],
   "source": [
    "data = pd.read_excel('data-team-2.xlsx', 'task-2-1', index_col=0)\n",
    "data"
   ]
  },
  {
   "cell_type": "markdown",
   "metadata": {},
   "source": [
    "## Sample characteristics of data"
   ]
  },
  {
   "cell_type": "code",
   "execution_count": 3,
   "metadata": {},
   "outputs": [
    {
     "data": {
      "text/html": [
       "<div>\n",
       "<style scoped>\n",
       "    .dataframe tbody tr th:only-of-type {\n",
       "        vertical-align: middle;\n",
       "    }\n",
       "\n",
       "    .dataframe tbody tr th {\n",
       "        vertical-align: top;\n",
       "    }\n",
       "\n",
       "    .dataframe thead th {\n",
       "        text-align: right;\n",
       "    }\n",
       "</style>\n",
       "<table border=\"1\" class=\"dataframe\">\n",
       "  <thead>\n",
       "    <tr style=\"text-align: right;\">\n",
       "      <th></th>\n",
       "      <th>Оптовий товарооборот, млн.грн</th>\n",
       "      <th>валовий внутрішній продукт, млн грн</th>\n",
       "    </tr>\n",
       "  </thead>\n",
       "  <tbody>\n",
       "    <tr>\n",
       "      <th>count</th>\n",
       "      <td>1.200000e+01</td>\n",
       "      <td>1.200000e+01</td>\n",
       "    </tr>\n",
       "    <tr>\n",
       "      <th>mean</th>\n",
       "      <td>9.840933e+05</td>\n",
       "      <td>1.260304e+06</td>\n",
       "    </tr>\n",
       "    <tr>\n",
       "      <th>std</th>\n",
       "      <td>2.786090e+05</td>\n",
       "      <td>5.718215e+05</td>\n",
       "    </tr>\n",
       "    <tr>\n",
       "      <th>min</th>\n",
       "      <td>4.925062e+05</td>\n",
       "      <td>4.573250e+05</td>\n",
       "    </tr>\n",
       "    <tr>\n",
       "      <th>25%</th>\n",
       "      <td>8.161894e+05</td>\n",
       "      <td>8.980580e+05</td>\n",
       "    </tr>\n",
       "    <tr>\n",
       "      <th>50%</th>\n",
       "      <td>9.961370e+05</td>\n",
       "      <td>1.234882e+06</td>\n",
       "    </tr>\n",
       "    <tr>\n",
       "      <th>75%</th>\n",
       "      <td>1.096789e+06</td>\n",
       "      <td>1.538722e+06</td>\n",
       "    </tr>\n",
       "    <tr>\n",
       "      <th>max</th>\n",
       "      <td>1.555966e+06</td>\n",
       "      <td>2.385367e+06</td>\n",
       "    </tr>\n",
       "  </tbody>\n",
       "</table>\n",
       "</div>"
      ],
      "text/plain": [
       "       Оптовий товарооборот, млн.грн  валовий внутрішній продукт, млн грн\n",
       "count                   1.200000e+01                         1.200000e+01\n",
       "mean                    9.840933e+05                         1.260304e+06\n",
       "std                     2.786090e+05                         5.718215e+05\n",
       "min                     4.925062e+05                         4.573250e+05\n",
       "25%                     8.161894e+05                         8.980580e+05\n",
       "50%                     9.961370e+05                         1.234882e+06\n",
       "75%                     1.096789e+06                         1.538722e+06\n",
       "max                     1.555966e+06                         2.385367e+06"
      ]
     },
     "execution_count": 3,
     "metadata": {},
     "output_type": "execute_result"
    }
   ],
   "source": [
    "data.describe() # quick look at the data"
   ]
  },
  {
   "cell_type": "code",
   "execution_count": 4,
   "metadata": {},
   "outputs": [],
   "source": [
    "cc = pd.Series({'mean': data['Оптовий товарооборот, млн.грн'].mean(), 'var': data['Оптовий товарооборот, млн.грн'].var(), 'median': data['Оптовий товарооборот, млн.грн'].median(), 'iqr': data['Оптовий товарооборот, млн.грн'].quantile(0.75) - data['Оптовий товарооборот, млн.грн'].quantile(0.25)})\n",
    "gdp = pd.Series({'mean': data['валовий внутрішній продукт, млн грн'].mean(), 'var': data['валовий внутрішній продукт, млн грн'].var(), 'median': data['валовий внутрішній продукт, млн грн'].median(), 'iqr': data['валовий внутрішній продукт, млн грн'].quantile(0.75) - data['валовий внутрішній продукт, млн грн'].quantile(0.25)})"
   ]
  },
  {
   "cell_type": "code",
   "execution_count": 5,
   "metadata": {},
   "outputs": [
    {
     "name": "stdout",
     "output_type": "stream",
     "text": [
      "Commodity circulations:\n"
     ]
    },
    {
     "data": {
      "text/plain": [
       "mean      9.840933e+05\n",
       "var       7.762299e+10\n",
       "median    9.961370e+05\n",
       "iqr       2.805995e+05\n",
       "dtype: float64"
      ]
     },
     "execution_count": 5,
     "metadata": {},
     "output_type": "execute_result"
    }
   ],
   "source": [
    "print('Commodity circulations:')\n",
    "cc"
   ]
  },
  {
   "cell_type": "code",
   "execution_count": 6,
   "metadata": {},
   "outputs": [
    {
     "name": "stdout",
     "output_type": "stream",
     "text": [
      "Gross domestic product:\n"
     ]
    },
    {
     "data": {
      "text/plain": [
       "mean      1.260304e+06\n",
       "var       3.269798e+11\n",
       "median    1.234882e+06\n",
       "iqr       6.406635e+05\n",
       "dtype: float64"
      ]
     },
     "execution_count": 6,
     "metadata": {},
     "output_type": "execute_result"
    }
   ],
   "source": [
    "print('Gross domestic product:')\n",
    "gdp"
   ]
  },
  {
   "cell_type": "markdown",
   "metadata": {},
   "source": [
    "## Visual analysis"
   ]
  },
  {
   "cell_type": "code",
   "execution_count": 7,
   "metadata": {},
   "outputs": [
    {
     "data": {
      "image/png": "[encoded data removed]",
      "text/plain": [
       "<Figure size 720x360 with 2 Axes>"
      ]
     },
     "metadata": {},
     "output_type": "display_data"
    }
   ],
   "source": [
    "_, axes = plt.subplots(1, 2, figsize=(10, 5), sharey=True, sharex=True)\n",
    "_ = sns.distplot(data['Оптовий товарооборот, млн.грн'], ax=axes[0]), sns.distplot(data['валовий внутрішній продукт, млн грн'], ax=axes[1])"
   ]
  },
  {
   "cell_type": "code",
   "execution_count": 8,
   "metadata": {},
   "outputs": [
    {
     "data": {
      "image/png": "[encoded data removed]",
      "text/plain": [
       "<Figure size 360x360 with 6 Axes>"
      ]
     },
     "metadata": {},
     "output_type": "display_data"
    }
   ],
   "source": [
    "_ = sns.pairplot(data)"
   ]
  },
  {
   "cell_type": "code",
   "execution_count": 9,
   "metadata": {},
   "outputs": [
    {
     "data": {
      "image/png": "[encoded data removed]",
      "text/plain": [
       "<Figure size 432x288 with 1 Axes>"
      ]
     },
     "metadata": {},
     "output_type": "display_data"
    }
   ],
   "source": [
    "_ = sns.boxplot(data=data, orient='h')"
   ]
  },
  {
   "cell_type": "markdown",
   "metadata": {},
   "source": [
    "## Correlation analysis  \n",
    "\n",
    "Target significance level in our analysis -- 0.01."
   ]
  },
  {
   "cell_type": "markdown",
   "metadata": {},
   "source": [
    "__Pearson's correlation coefficient__\n",
    "\n",
    "$H_0$ -- variables are uncorrelated."
   ]
  },
  {
   "cell_type": "code",
   "execution_count": 10,
   "metadata": {},
   "outputs": [
    {
     "name": "stdout",
     "output_type": "stream",
     "text": [
      "Correlation coefficient: 0.95016, achieved p-value: 2.2263e-06\n"
     ]
    }
   ],
   "source": [
    "pearson_corr_coef, pearson_p_value = sts.pearsonr(data['Оптовий товарооборот, млн.грн'], data['валовий внутрішній продукт, млн грн'])\n",
    "print(f'Correlation coefficient: {np.round(pearson_corr_coef, 5)}, achieved p-value: {np.round(pearson_p_value, 10)}')"
   ]
  },
  {
   "cell_type": "markdown",
   "metadata": {},
   "source": [
    "We achieve high correlation coefficient and really low p-value (2.22e-06 < 0.01), so we can conclude, that variables are correlated."
   ]
  },
  {
   "cell_type": "markdown",
   "metadata": {},
   "source": [
    "__Spearman's correlation coefficient__\n",
    "\n",
    "$H_0$ -- variables are uncorrelated."
   ]
  },
  {
   "cell_type": "code",
   "execution_count": 11,
   "metadata": {},
   "outputs": [
    {
     "name": "stdout",
     "output_type": "stream",
     "text": [
      "Correlation coefficient: 0.86014, achieved p-value: 0.0003316683\n"
     ]
    }
   ],
   "source": [
    "spearman_corr_coef, spearman_p_value = sts.spearmanr(data['Оптовий товарооборот, млн.грн'], data['валовий внутрішній продукт, млн грн'])\n",
    "print(f'Correlation coefficient: {np.round(spearman_corr_coef, 5)}, achieved p-value: {np.round(spearman_p_value, 10)}')"
   ]
  },
  {
   "cell_type": "markdown",
   "metadata": {},
   "source": [
    "We achieve lower correlation coefficient than in Pearson's test. Dependence is not monotonic everywhere. Low p-value (0.00033 < 0.01), so we can conclude, that variables are correlated."
   ]
  },
  {
   "cell_type": "markdown",
   "metadata": {},
   "source": [
    "__Wilcoxon's test__\n",
    "\n",
    "$H_0$ -- two related paired samples come from the same distribution. In particular, it tests whether the distribution of the differences x - y is symmetric about zero. It is a non-parametric version of the paired T-test."
   ]
  },
  {
   "cell_type": "code",
   "execution_count": 12,
   "metadata": {},
   "outputs": [
    {
     "name": "stdout",
     "output_type": "stream",
     "text": [
      "Wilcoxons statistics: 10.0, achieved p-value: 0.0229090994\n"
     ]
    }
   ],
   "source": [
    "wilcox_coef, wilcox_p_value = sts.wilcoxon(data['Оптовий товарооборот, млн.грн'], data['валовий внутрішній продукт, млн грн'])\n",
    "print(f'Wilcoxons statistics: {np.round(wilcox_coef, 5)}, achieved p-value: {np.round(wilcox_p_value, 10)}')"
   ]
  },
  {
   "cell_type": "markdown",
   "metadata": {},
   "source": [
    "Although achieved p-value of 0.023 is greater than significance level of 0.01 and we should adopt $H_0$, we can't be confident in this result. 0.023 is not really significant: if significance level we target was 0.05, we would discard $H_0$. "
   ]
  },
  {
   "cell_type": "code",
   "execution_count": 13,
   "metadata": {},
   "outputs": [
    {
     "data": {
      "text/html": [
       "<div>\n",
       "<style scoped>\n",
       "    .dataframe tbody tr th:only-of-type {\n",
       "        vertical-align: middle;\n",
       "    }\n",
       "\n",
       "    .dataframe tbody tr th {\n",
       "        vertical-align: top;\n",
       "    }\n",
       "\n",
       "    .dataframe thead th {\n",
       "        text-align: right;\n",
       "    }\n",
       "</style>\n",
       "<table border=\"1\" class=\"dataframe\">\n",
       "  <thead>\n",
       "    <tr style=\"text-align: right;\">\n",
       "      <th></th>\n",
       "      <th>Оптовий товарооборот, млн.грн</th>\n",
       "      <th>валовий внутрішній продукт, млн грн</th>\n",
       "    </tr>\n",
       "  </thead>\n",
       "  <tbody>\n",
       "    <tr>\n",
       "      <th>Оптовий товарооборот, млн.грн</th>\n",
       "      <td>1.000000</td>\n",
       "      <td>0.950163</td>\n",
       "    </tr>\n",
       "    <tr>\n",
       "      <th>валовий внутрішній продукт, млн грн</th>\n",
       "      <td>0.950163</td>\n",
       "      <td>1.000000</td>\n",
       "    </tr>\n",
       "  </tbody>\n",
       "</table>\n",
       "</div>"
      ],
      "text/plain": [
       "                                     Оптовий товарооборот, млн.грн  \\\n",
       "Оптовий товарооборот, млн.грн                             1.000000   \n",
       "валовий внутрішній продукт, млн грн                       0.950163   \n",
       "\n",
       "                                     валовий внутрішній продукт, млн грн  \n",
       "Оптовий товарооборот, млн.грн                                   0.950163  \n",
       "валовий внутрішній продукт, млн грн                             1.000000  "
      ]
     },
     "execution_count": 13,
     "metadata": {},
     "output_type": "execute_result"
    }
   ],
   "source": [
    "corr_table = data.corr()\n",
    "corr_table"
   ]
  },
  {
   "cell_type": "markdown",
   "metadata": {},
   "source": [
    "## Fitting linear model"
   ]
  },
  {
   "cell_type": "code",
   "execution_count": 14,
   "metadata": {},
   "outputs": [],
   "source": [
    "from scipy.stats import kstest\n",
    "import statsmodels.api as sm\n",
    "from statsmodels.stats import diagnostic\n",
    "from statsmodels.sandbox.regression.predstd import wls_prediction_std"
   ]
  },
  {
   "cell_type": "code",
   "execution_count": 15,
   "metadata": {},
   "outputs": [
    {
     "data": {
      "text/html": [
       "<div>\n",
       "<style scoped>\n",
       "    .dataframe tbody tr th:only-of-type {\n",
       "        vertical-align: middle;\n",
       "    }\n",
       "\n",
       "    .dataframe tbody tr th {\n",
       "        vertical-align: top;\n",
       "    }\n",
       "\n",
       "    .dataframe thead th {\n",
       "        text-align: right;\n",
       "    }\n",
       "</style>\n",
       "<table border=\"1\" class=\"dataframe\">\n",
       "  <thead>\n",
       "    <tr style=\"text-align: right;\">\n",
       "      <th></th>\n",
       "      <th>const</th>\n",
       "      <th>валовий внутрішній продукт, млн грн</th>\n",
       "    </tr>\n",
       "    <tr>\n",
       "      <th>роки</th>\n",
       "      <th></th>\n",
       "      <th></th>\n",
       "    </tr>\n",
       "  </thead>\n",
       "  <tbody>\n",
       "    <tr>\n",
       "      <th>2005</th>\n",
       "      <td>1.0</td>\n",
       "      <td>457325</td>\n",
       "    </tr>\n",
       "    <tr>\n",
       "      <th>2006</th>\n",
       "      <td>1.0</td>\n",
       "      <td>565018</td>\n",
       "    </tr>\n",
       "    <tr>\n",
       "      <th>2007</th>\n",
       "      <td>1.0</td>\n",
       "      <td>751106</td>\n",
       "    </tr>\n",
       "    <tr>\n",
       "      <th>2008</th>\n",
       "      <td>1.0</td>\n",
       "      <td>990819</td>\n",
       "    </tr>\n",
       "    <tr>\n",
       "      <th>2009</th>\n",
       "      <td>1.0</td>\n",
       "      <td>947042</td>\n",
       "    </tr>\n",
       "  </tbody>\n",
       "</table>\n",
       "</div>"
      ],
      "text/plain": [
       "      const  валовий внутрішній продукт, млн грн\n",
       "роки                                            \n",
       "2005    1.0                               457325\n",
       "2006    1.0                               565018\n",
       "2007    1.0                               751106\n",
       "2008    1.0                               990819\n",
       "2009    1.0                               947042"
      ]
     },
     "execution_count": 15,
     "metadata": {},
     "output_type": "execute_result"
    }
   ],
   "source": [
    "y = data['Оптовий товарооборот, млн.грн']\n",
    "X = data['валовий внутрішній продукт, млн грн']\n",
    "X = sm.add_constant(X)\n",
    "X.head()"
   ]
  },
  {
   "cell_type": "code",
   "execution_count": 16,
   "metadata": {},
   "outputs": [
    {
     "name": "stdout",
     "output_type": "stream",
     "text": [
      "Model coeficients:\n"
     ]
    },
    {
     "data": {
      "text/plain": [
       "const                                  400637.064536\n",
       "валовий внутрішній продукт, млн грн         0.462949\n",
       "dtype: float64"
      ]
     },
     "execution_count": 16,
     "metadata": {},
     "output_type": "execute_result"
    }
   ],
   "source": [
    "regress_model = sm.OLS(y, X)\n",
    "results = regress_model.fit()\n",
    "print(f'Model coeficients:')\n",
    "results.params"
   ]
  },
  {
   "cell_type": "code",
   "execution_count": 17,
   "metadata": {},
   "outputs": [
    {
     "data": {
      "text/html": [
       "<table class=\"simpletable\">\n",
       "<caption>OLS Regression Results</caption>\n",
       "<tr>\n",
       "  <th>Dep. Variable:</th>    <td>Оптовий товарооборот, млн.грн</td> <th>  R-squared:         </th> <td>   0.903</td>\n",
       "</tr>\n",
       "<tr>\n",
       "  <th>Model:</th>                         <td>OLS</td>              <th>  Adj. R-squared:    </th> <td>   0.893</td>\n",
       "</tr>\n",
       "<tr>\n",
       "  <th>Method:</th>                   <td>Least Squares</td>         <th>  F-statistic:       </th> <td>   92.89</td>\n",
       "</tr>\n",
       "<tr>\n",
       "  <th>Date:</th>                   <td>Tue, 03 Jul 2018</td>        <th>  Prob (F-statistic):</th> <td>2.23e-06</td>\n",
       "</tr>\n",
       "<tr>\n",
       "  <th>Time:</th>                       <td>00:19:48</td>            <th>  Log-Likelihood:    </th> <td> -152.97</td>\n",
       "</tr>\n",
       "<tr>\n",
       "  <th>No. Observations:</th>            <td>    12</td>             <th>  AIC:               </th> <td>   309.9</td>\n",
       "</tr>\n",
       "<tr>\n",
       "  <th>Df Residuals:</th>                <td>    10</td>             <th>  BIC:               </th> <td>   310.9</td>\n",
       "</tr>\n",
       "<tr>\n",
       "  <th>Df Model:</th>                    <td>     1</td>             <th>                     </th>     <td> </td>   \n",
       "</tr>\n",
       "<tr>\n",
       "  <th>Covariance Type:</th>            <td>nonrobust</td>           <th>                     </th>     <td> </td>   \n",
       "</tr>\n",
       "</table>\n",
       "<table class=\"simpletable\">\n",
       "<tr>\n",
       "                   <td></td>                      <th>coef</th>     <th>std err</th>      <th>t</th>      <th>P>|t|</th>  <th>[0.025</th>    <th>0.975]</th>  \n",
       "</tr>\n",
       "<tr>\n",
       "  <th>const</th>                               <td> 4.006e+05</td> <td>  6.6e+04</td> <td>    6.070</td> <td> 0.000</td> <td> 2.54e+05</td> <td> 5.48e+05</td>\n",
       "</tr>\n",
       "<tr>\n",
       "  <th>валовий внутрішній продукт, млн грн</th> <td>    0.4629</td> <td>    0.048</td> <td>    9.638</td> <td> 0.000</td> <td>    0.356</td> <td>    0.570</td>\n",
       "</tr>\n",
       "</table>\n",
       "<table class=\"simpletable\">\n",
       "<tr>\n",
       "  <th>Omnibus:</th>       <td> 0.428</td> <th>  Durbin-Watson:     </th> <td>   1.194</td>\n",
       "</tr>\n",
       "<tr>\n",
       "  <th>Prob(Omnibus):</th> <td> 0.807</td> <th>  Jarque-Bera (JB):  </th> <td>   0.510</td>\n",
       "</tr>\n",
       "<tr>\n",
       "  <th>Skew:</th>          <td>-0.201</td> <th>  Prob(JB):          </th> <td>   0.775</td>\n",
       "</tr>\n",
       "<tr>\n",
       "  <th>Kurtosis:</th>      <td> 2.073</td> <th>  Cond. No.          </th> <td>3.45e+06</td>\n",
       "</tr>\n",
       "</table><br/><br/>Warnings:<br/>[1] Standard Errors assume that the covariance matrix of the errors is correctly specified.<br/>[2] The condition number is large, 3.45e+06. This might indicate that there are<br/>strong multicollinearity or other numerical problems."
      ],
      "text/plain": [
       "<class 'statsmodels.iolib.summary.Summary'>\n",
       "\"\"\"\n",
       "                                  OLS Regression Results                                 \n",
       "=========================================================================================\n",
       "Dep. Variable:     Оптовий товарооборот, млн.грн   R-squared:                       0.903\n",
       "Model:                                       OLS   Adj. R-squared:                  0.893\n",
       "Method:                            Least Squares   F-statistic:                     92.89\n",
       "Date:                           Tue, 03 Jul 2018   Prob (F-statistic):           2.23e-06\n",
       "Time:                                   00:19:48   Log-Likelihood:                -152.97\n",
       "No. Observations:                             12   AIC:                             309.9\n",
       "Df Residuals:                                 10   BIC:                             310.9\n",
       "Df Model:                                      1                                         \n",
       "Covariance Type:                       nonrobust                                         \n",
       "=======================================================================================================\n",
       "                                          coef    std err          t      P>|t|      [0.025      0.975]\n",
       "-------------------------------------------------------------------------------------------------------\n",
       "const                                4.006e+05    6.6e+04      6.070      0.000    2.54e+05    5.48e+05\n",
       "валовий внутрішній продукт, млн грн     0.4629      0.048      9.638      0.000       0.356       0.570\n",
       "==============================================================================\n",
       "Omnibus:                        0.428   Durbin-Watson:                   1.194\n",
       "Prob(Omnibus):                  0.807   Jarque-Bera (JB):                0.510\n",
       "Skew:                          -0.201   Prob(JB):                        0.775\n",
       "Kurtosis:                       2.073   Cond. No.                     3.45e+06\n",
       "==============================================================================\n",
       "\n",
       "Warnings:\n",
       "[1] Standard Errors assume that the covariance matrix of the errors is correctly specified.\n",
       "[2] The condition number is large, 3.45e+06. This might indicate that there are\n",
       "strong multicollinearity or other numerical problems.\n",
       "\"\"\""
      ]
     },
     "execution_count": 17,
     "metadata": {},
     "output_type": "execute_result"
    }
   ],
   "source": [
    "results.summary() # no alpha shows that confidence interval for parameters is 95% "
   ]
  },
  {
   "cell_type": "code",
   "execution_count": 18,
   "metadata": {},
   "outputs": [
    {
     "name": "stdout",
     "output_type": "stream",
     "text": [
      "The linear regression equation:\n",
      "y = 400637.06 + 0.46 * x\n"
     ]
    }
   ],
   "source": [
    "print('The linear regression equation:')\n",
    "print(f'y = {str(round(results.params[0], 2))} + {str(round(results.params[1], 2))} * x')"
   ]
  },
  {
   "cell_type": "code",
   "execution_count": 19,
   "metadata": {},
   "outputs": [
    {
     "data": {
      "image/png": "[encoded data removed]",
      "text/plain": [
       "<Figure size 360x360 with 1 Axes>"
      ]
     },
     "metadata": {},
     "output_type": "display_data"
    }
   ],
   "source": [
    "sns.lmplot('валовий внутрішній продукт, млн грн', 'Оптовий товарооборот, млн.грн', data=data, fit_reg=False)\n",
    "gdp = np.arange(data['валовий внутрішній продукт, млн грн'].min() - 2e5, data['валовий внутрішній продукт, млн грн'].max() + 2e5, 1e5)\n",
    "_ = plt.plot(gdp, results.params[0] + results.params[1] * gdp, 'g')"
   ]
  },
  {
   "cell_type": "markdown",
   "metadata": {},
   "source": [
    "### Residuals analysis"
   ]
  },
  {
   "cell_type": "code",
   "execution_count": 20,
   "metadata": {},
   "outputs": [
    {
     "data": {
      "image/png": "[encoded data removed]",
      "text/plain": [
       "<Figure size 432x288 with 1 Axes>"
      ]
     },
     "metadata": {},
     "output_type": "display_data"
    }
   ],
   "source": [
    "remains = results.resid\n",
    "sns.distplot(remains, hist=False)\n",
    "_ = plt.title('The plot of model`s remains')"
   ]
  },
  {
   "cell_type": "code",
   "execution_count": 21,
   "metadata": {},
   "outputs": [
    {
     "data": {
      "text/plain": [
       "KstestResult(statistic=0.1382230071582694, pvalue=0.9759034819952532)"
      ]
     },
     "execution_count": 21,
     "metadata": {},
     "output_type": "execute_result"
    }
   ],
   "source": [
    "kstest(remains, 'norm', args=(0, remains.std()))"
   ]
  },
  {
   "cell_type": "code",
   "execution_count": 22,
   "metadata": {},
   "outputs": [
    {
     "data": {
      "image/png": "[encoded data removed]",
      "text/plain": [
       "<Figure size 432x288 with 1 Axes>"
      ]
     },
     "metadata": {},
     "output_type": "display_data"
    }
   ],
   "source": [
    "sns.residplot(X.iloc[:, 1], y, color = 'g')\n",
    "_ = plt.title('Scatter plot of residuals')"
   ]
  },
  {
   "cell_type": "code",
   "execution_count": 23,
   "metadata": {},
   "outputs": [
    {
     "data": {
      "text/plain": [
       "0.7338528185584049"
      ]
     },
     "execution_count": 23,
     "metadata": {},
     "output_type": "execute_result"
    }
   ],
   "source": [
    "_, _, _, p_value = diagnostic.het_breuschpagan(remains, X)\n",
    "p_value"
   ]
  },
  {
   "cell_type": "code",
   "execution_count": 24,
   "metadata": {},
   "outputs": [
    {
     "data": {
      "text/plain": [
       "array([1781575.88100171])"
      ]
     },
     "execution_count": 24,
     "metadata": {},
     "output_type": "execute_result"
    }
   ],
   "source": [
    "x_new1 = [1, 2982920]\n",
    "y_1 = results.predict(x_new1)\n",
    "y_1"
   ]
  },
  {
   "cell_type": "code",
   "execution_count": 25,
   "metadata": {},
   "outputs": [
    {
     "data": {
      "text/plain": [
       "(array([125843.83797973]),\n",
       " array([1501178.33631869]),\n",
       " array([2061973.42568473]))"
      ]
     },
     "execution_count": 25,
     "metadata": {},
     "output_type": "execute_result"
    }
   ],
   "source": [
    "wls_prediction_std(results, x_new1, alpha = 0.05)"
   ]
  },
  {
   "cell_type": "code",
   "execution_count": null,
   "metadata": {},
   "outputs": [],
   "source": []
  }
 ],
 "metadata": {
  "kernelspec": {
   "display_name": "Python 3",
   "language": "python",
   "name": "python3"
  },
  "language_info": {
   "codemirror_mode": {
    "name": "ipython",
    "version": 3
   },
   "file_extension": ".py",
   "mimetype": "text/x-python",
   "name": "python",
   "nbconvert_exporter": "python",
   "pygments_lexer": "ipython3",
   "version": "3.6.5"
  }
 },
 "nbformat": 4,
 "nbformat_minor": 2
}

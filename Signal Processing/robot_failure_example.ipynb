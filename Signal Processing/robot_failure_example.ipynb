{
 "cells": [
  {
   "cell_type": "markdown",
   "metadata": {},
   "source": [
    "# TSFRESH Robot Failure Example\n",
    "This example show shows how to use [tsfresh](https://tsfresh.readthedocs.io/) to exctract useful features from multiple timeseries and use them to improve classification performance."
   ]
  },
  {
   "cell_type": "code",
   "execution_count": 1,
   "metadata": {},
   "outputs": [
    {
     "name": "stderr",
     "output_type": "stream",
     "text": [
      "/home/yarrdopanas/miniconda3/lib/python3.6/site-packages/sklearn/cross_validation.py:41: DeprecationWarning: This module was deprecated in version 0.18 in favor of the model_selection module into which all the refactored classes and functions are moved. Also note that the interface of the new CV iterators are different from that of this module. This module will be removed in 0.20.\n",
      "  \"This module will be removed in 0.20.\", DeprecationWarning)\n"
     ]
    }
   ],
   "source": [
    "%matplotlib inline\n",
    "import matplotlib.pylab as plt\n",
    "import seaborn as sns\n",
    "from tsfresh.examples.robot_execution_failures import download_robot_execution_failures, load_robot_execution_failures\n",
    "from tsfresh import extract_features, extract_relevant_features, select_features\n",
    "from tsfresh.utilities.dataframe_functions import impute\n",
    "from tsfresh.feature_extraction import ComprehensiveFCParameters\n",
    "from sklearn.tree import DecisionTreeClassifier\n",
    "from sklearn.cross_validation import train_test_split\n",
    "from sklearn.metrics import classification_report"
   ]
  },
  {
   "cell_type": "code",
   "execution_count": 2,
   "metadata": {},
   "outputs": [],
   "source": [
    "# We set the logger to Error level\n",
    "# This is not recommend for normal use as you can oversee important Warning messages\n",
    "import logging\n",
    "logging.basicConfig(level=logging.ERROR)"
   ]
  },
  {
   "cell_type": "markdown",
   "metadata": {},
   "source": [
    "## Load and visualize data\n",
    "The data set documents 88 robot executions (`id` 1 - 88), which are a subset of the [Robot Execution Failures Data Set](https://archive.ics.uci.edu/ml/datasets/Robot+Execution+Failures). For the purpose of simplicity we are only differentiating between successfull and failed executions (`y`).\n",
    "For each execution 15 force (F) and torque (T) samples are given, which were measured at regular time intervals for the spatial dimensions x, y, and z. Therefore each row of the data frame references a specific execution (`id`), a time index (`index`) and documents the respective measurements of 6 sensors (`F_x`, `F_y`, `F_z`, `T_x`, `T_y`, `T_z`)."
   ]
  },
  {
   "cell_type": "code",
   "execution_count": 5,
   "metadata": {},
   "outputs": [
    {
     "data": {
      "text/html": [
       "<div>\n",
       "<style scoped>\n",
       "    .dataframe tbody tr th:only-of-type {\n",
       "        vertical-align: middle;\n",
       "    }\n",
       "\n",
       "    .dataframe tbody tr th {\n",
       "        vertical-align: top;\n",
       "    }\n",
       "\n",
       "    .dataframe thead th {\n",
       "        text-align: right;\n",
       "    }\n",
       "</style>\n",
       "<table border=\"1\" class=\"dataframe\">\n",
       "  <thead>\n",
       "    <tr style=\"text-align: right;\">\n",
       "      <th></th>\n",
       "      <th>id</th>\n",
       "      <th>time</th>\n",
       "      <th>F_x</th>\n",
       "      <th>F_y</th>\n",
       "      <th>F_z</th>\n",
       "      <th>T_x</th>\n",
       "      <th>T_y</th>\n",
       "      <th>T_z</th>\n",
       "    </tr>\n",
       "  </thead>\n",
       "  <tbody>\n",
       "    <tr>\n",
       "      <th>0</th>\n",
       "      <td>1</td>\n",
       "      <td>0</td>\n",
       "      <td>-1</td>\n",
       "      <td>-1</td>\n",
       "      <td>63</td>\n",
       "      <td>-3</td>\n",
       "      <td>-1</td>\n",
       "      <td>0</td>\n",
       "    </tr>\n",
       "    <tr>\n",
       "      <th>1</th>\n",
       "      <td>1</td>\n",
       "      <td>1</td>\n",
       "      <td>0</td>\n",
       "      <td>0</td>\n",
       "      <td>62</td>\n",
       "      <td>-3</td>\n",
       "      <td>-1</td>\n",
       "      <td>0</td>\n",
       "    </tr>\n",
       "    <tr>\n",
       "      <th>2</th>\n",
       "      <td>1</td>\n",
       "      <td>2</td>\n",
       "      <td>-1</td>\n",
       "      <td>-1</td>\n",
       "      <td>61</td>\n",
       "      <td>-3</td>\n",
       "      <td>0</td>\n",
       "      <td>0</td>\n",
       "    </tr>\n",
       "    <tr>\n",
       "      <th>3</th>\n",
       "      <td>1</td>\n",
       "      <td>3</td>\n",
       "      <td>-1</td>\n",
       "      <td>-1</td>\n",
       "      <td>63</td>\n",
       "      <td>-2</td>\n",
       "      <td>-1</td>\n",
       "      <td>0</td>\n",
       "    </tr>\n",
       "    <tr>\n",
       "      <th>4</th>\n",
       "      <td>1</td>\n",
       "      <td>4</td>\n",
       "      <td>-1</td>\n",
       "      <td>-1</td>\n",
       "      <td>63</td>\n",
       "      <td>-3</td>\n",
       "      <td>-1</td>\n",
       "      <td>0</td>\n",
       "    </tr>\n",
       "  </tbody>\n",
       "</table>\n",
       "</div>"
      ],
      "text/plain": [
       "   id  time  F_x  F_y  F_z  T_x  T_y  T_z\n",
       "0   1     0   -1   -1   63   -3   -1    0\n",
       "1   1     1    0    0   62   -3   -1    0\n",
       "2   1     2   -1   -1   61   -3    0    0\n",
       "3   1     3   -1   -1   63   -2   -1    0\n",
       "4   1     4   -1   -1   63   -3   -1    0"
      ]
     },
     "execution_count": 5,
     "metadata": {},
     "output_type": "execute_result"
    }
   ],
   "source": [
    "download_robot_execution_failures()\n",
    "df, y = load_robot_execution_failures()\n",
    "df.head()"
   ]
  },
  {
   "cell_type": "code",
   "execution_count": 22,
   "metadata": {},
   "outputs": [
    {
     "data": {
      "text/plain": [
       "0        0\n",
       "1        1\n",
       "2        2\n",
       "3        3\n",
       "4        4\n",
       "5        5\n",
       "6        6\n",
       "7        7\n",
       "8        8\n",
       "9        9\n",
       "10      10\n",
       "11      11\n",
       "12      12\n",
       "13      13\n",
       "14      14\n",
       "15       0\n",
       "16       1\n",
       "17       2\n",
       "18       3\n",
       "19       4\n",
       "20       5\n",
       "21       6\n",
       "22       7\n",
       "23       8\n",
       "24       9\n",
       "25      10\n",
       "26      11\n",
       "27      12\n",
       "28      13\n",
       "29      14\n",
       "        ..\n",
       "1290     0\n",
       "1291     1\n",
       "1292     2\n",
       "1293     3\n",
       "1294     4\n",
       "1295     5\n",
       "1296     6\n",
       "1297     7\n",
       "1298     8\n",
       "1299     9\n",
       "1300    10\n",
       "1301    11\n",
       "1302    12\n",
       "1303    13\n",
       "1304    14\n",
       "1305     0\n",
       "1306     1\n",
       "1307     2\n",
       "1308     3\n",
       "1309     4\n",
       "1310     5\n",
       "1311     6\n",
       "1312     7\n",
       "1313     8\n",
       "1314     9\n",
       "1315    10\n",
       "1316    11\n",
       "1317    12\n",
       "1318    13\n",
       "1319    14\n",
       "Name: time, Length: 1320, dtype: int64"
      ]
     },
     "execution_count": 22,
     "metadata": {},
     "output_type": "execute_result"
    }
   ],
   "source": [
    "df['time']"
   ]
  },
  {
   "cell_type": "code",
   "execution_count": 21,
   "metadata": {},
   "outputs": [
    {
     "data": {
      "text/plain": [
       "1    True\n",
       "2    True\n",
       "3    True\n",
       "4    True\n",
       "5    True\n",
       "dtype: bool"
      ]
     },
     "execution_count": 21,
     "metadata": {},
     "output_type": "execute_result"
    }
   ],
   "source": [
    "y.head()"
   ]
  },
  {
   "cell_type": "code",
   "execution_count": 6,
   "metadata": {},
   "outputs": [
    {
     "data": {
      "image/png": "[encoded data removed]",
      "text/plain": [
       "<Figure size 864x432 with 1 Axes>"
      ]
     },
     "metadata": {},
     "output_type": "display_data"
    },
    {
     "data": {
      "image/png": "[encoded data removed]",
      "text/plain": [
       "<Figure size 864x432 with 1 Axes>"
      ]
     },
     "metadata": {},
     "output_type": "display_data"
    }
   ],
   "source": [
    "df[df.id == 3][['time', 'F_x', 'F_y', 'F_z', 'T_x', 'T_y', 'T_z']].plot(x='time', title='Success example (id 3)', figsize=(12, 6));\n",
    "df[df.id == 20][['time', 'F_x', 'F_y', 'F_z', 'T_x', 'T_y', 'T_z']].plot(x='time', title='Failure example (id 20)', figsize=(12, 6));"
   ]
  },
  {
   "cell_type": "code",
   "execution_count": 23,
   "metadata": {},
   "outputs": [
    {
     "data": {
      "text/plain": [
       "id      int64\n",
       "time    int64\n",
       "F_x     int64\n",
       "F_y     int64\n",
       "F_z     int64\n",
       "T_x     int64\n",
       "T_y     int64\n",
       "T_z     int64\n",
       "dtype: object"
      ]
     },
     "execution_count": 23,
     "metadata": {},
     "output_type": "execute_result"
    }
   ],
   "source": [
    "df.dtypes"
   ]
  },
  {
   "cell_type": "markdown",
   "metadata": {},
   "source": [
    "## Extract Features"
   ]
  },
  {
   "cell_type": "code",
   "execution_count": 7,
   "metadata": {},
   "outputs": [],
   "source": [
    "extraction_settings = ComprehensiveFCParameters()"
   ]
  },
  {
   "cell_type": "code",
   "execution_count": 8,
   "metadata": {},
   "outputs": [
    {
     "name": "stderr",
     "output_type": "stream",
     "text": [
      "Feature Extraction: 100%|██████████| 10/10 [00:31<00:00,  3.11s/it]\n"
     ]
    }
   ],
   "source": [
    "X = extract_features(df, \n",
    "                     column_id='id', column_sort='time',\n",
    "                     default_fc_parameters=extraction_settings,\n",
    "                     impute_function= impute)"
   ]
  },
  {
   "cell_type": "code",
   "execution_count": 9,
   "metadata": {},
   "outputs": [
    {
     "data": {
      "text/html": [
       "<div>\n",
       "<style scoped>\n",
       "    .dataframe tbody tr th:only-of-type {\n",
       "        vertical-align: middle;\n",
       "    }\n",
       "\n",
       "    .dataframe tbody tr th {\n",
       "        vertical-align: top;\n",
       "    }\n",
       "\n",
       "    .dataframe thead th {\n",
       "        text-align: right;\n",
       "    }\n",
       "</style>\n",
       "<table border=\"1\" class=\"dataframe\">\n",
       "  <thead>\n",
       "    <tr style=\"text-align: right;\">\n",
       "      <th>variable</th>\n",
       "      <th>F_x__abs_energy</th>\n",
       "      <th>F_x__absolute_sum_of_changes</th>\n",
       "      <th>F_x__agg_autocorrelation__f_agg_\"mean\"</th>\n",
       "      <th>F_x__agg_autocorrelation__f_agg_\"median\"</th>\n",
       "      <th>F_x__agg_autocorrelation__f_agg_\"var\"</th>\n",
       "      <th>F_x__agg_linear_trend__f_agg_\"max\"__chunk_len_10__attr_\"intercept\"</th>\n",
       "      <th>F_x__agg_linear_trend__f_agg_\"max\"__chunk_len_10__attr_\"rvalue\"</th>\n",
       "      <th>F_x__agg_linear_trend__f_agg_\"max\"__chunk_len_10__attr_\"slope\"</th>\n",
       "      <th>F_x__agg_linear_trend__f_agg_\"max\"__chunk_len_10__attr_\"stderr\"</th>\n",
       "      <th>F_x__agg_linear_trend__f_agg_\"max\"__chunk_len_50__attr_\"intercept\"</th>\n",
       "      <th>...</th>\n",
       "      <th>T_z__time_reversal_asymmetry_statistic__lag_1</th>\n",
       "      <th>T_z__time_reversal_asymmetry_statistic__lag_2</th>\n",
       "      <th>T_z__time_reversal_asymmetry_statistic__lag_3</th>\n",
       "      <th>T_z__value_count__value_-inf</th>\n",
       "      <th>T_z__value_count__value_0</th>\n",
       "      <th>T_z__value_count__value_1</th>\n",
       "      <th>T_z__value_count__value_inf</th>\n",
       "      <th>T_z__value_count__value_nan</th>\n",
       "      <th>T_z__variance</th>\n",
       "      <th>T_z__variance_larger_than_standard_deviation</th>\n",
       "    </tr>\n",
       "    <tr>\n",
       "      <th>id</th>\n",
       "      <th></th>\n",
       "      <th></th>\n",
       "      <th></th>\n",
       "      <th></th>\n",
       "      <th></th>\n",
       "      <th></th>\n",
       "      <th></th>\n",
       "      <th></th>\n",
       "      <th></th>\n",
       "      <th></th>\n",
       "      <th></th>\n",
       "      <th></th>\n",
       "      <th></th>\n",
       "      <th></th>\n",
       "      <th></th>\n",
       "      <th></th>\n",
       "      <th></th>\n",
       "      <th></th>\n",
       "      <th></th>\n",
       "      <th></th>\n",
       "      <th></th>\n",
       "    </tr>\n",
       "  </thead>\n",
       "  <tbody>\n",
       "    <tr>\n",
       "      <th>1</th>\n",
       "      <td>14.0</td>\n",
       "      <td>2.0</td>\n",
       "      <td>-0.106351</td>\n",
       "      <td>-7.206633e-02</td>\n",
       "      <td>0.016879</td>\n",
       "      <td>0.0</td>\n",
       "      <td>-1.0</td>\n",
       "      <td>-1.0</td>\n",
       "      <td>0.0</td>\n",
       "      <td>0.0</td>\n",
       "      <td>...</td>\n",
       "      <td>0.000000</td>\n",
       "      <td>0.000000</td>\n",
       "      <td>0.000000</td>\n",
       "      <td>0.0</td>\n",
       "      <td>15.0</td>\n",
       "      <td>0.0</td>\n",
       "      <td>0.0</td>\n",
       "      <td>0.0</td>\n",
       "      <td>0.000000</td>\n",
       "      <td>0.0</td>\n",
       "    </tr>\n",
       "    <tr>\n",
       "      <th>2</th>\n",
       "      <td>25.0</td>\n",
       "      <td>14.0</td>\n",
       "      <td>-0.039098</td>\n",
       "      <td>-4.935275e-02</td>\n",
       "      <td>0.088790</td>\n",
       "      <td>0.0</td>\n",
       "      <td>0.0</td>\n",
       "      <td>0.0</td>\n",
       "      <td>0.0</td>\n",
       "      <td>0.0</td>\n",
       "      <td>...</td>\n",
       "      <td>0.000000</td>\n",
       "      <td>0.000000</td>\n",
       "      <td>0.000000</td>\n",
       "      <td>0.0</td>\n",
       "      <td>11.0</td>\n",
       "      <td>0.0</td>\n",
       "      <td>0.0</td>\n",
       "      <td>0.0</td>\n",
       "      <td>0.195556</td>\n",
       "      <td>0.0</td>\n",
       "    </tr>\n",
       "    <tr>\n",
       "      <th>3</th>\n",
       "      <td>12.0</td>\n",
       "      <td>10.0</td>\n",
       "      <td>-0.029815</td>\n",
       "      <td>2.602085e-17</td>\n",
       "      <td>0.105435</td>\n",
       "      <td>1.0</td>\n",
       "      <td>-1.0</td>\n",
       "      <td>-2.0</td>\n",
       "      <td>0.0</td>\n",
       "      <td>0.0</td>\n",
       "      <td>...</td>\n",
       "      <td>0.000000</td>\n",
       "      <td>-0.090909</td>\n",
       "      <td>0.000000</td>\n",
       "      <td>0.0</td>\n",
       "      <td>11.0</td>\n",
       "      <td>0.0</td>\n",
       "      <td>0.0</td>\n",
       "      <td>0.0</td>\n",
       "      <td>0.195556</td>\n",
       "      <td>0.0</td>\n",
       "    </tr>\n",
       "    <tr>\n",
       "      <th>4</th>\n",
       "      <td>16.0</td>\n",
       "      <td>17.0</td>\n",
       "      <td>-0.049773</td>\n",
       "      <td>-6.417112e-02</td>\n",
       "      <td>0.143580</td>\n",
       "      <td>1.0</td>\n",
       "      <td>-1.0</td>\n",
       "      <td>-1.0</td>\n",
       "      <td>0.0</td>\n",
       "      <td>0.0</td>\n",
       "      <td>...</td>\n",
       "      <td>0.000000</td>\n",
       "      <td>-0.181818</td>\n",
       "      <td>0.000000</td>\n",
       "      <td>0.0</td>\n",
       "      <td>8.0</td>\n",
       "      <td>1.0</td>\n",
       "      <td>0.0</td>\n",
       "      <td>0.0</td>\n",
       "      <td>0.355556</td>\n",
       "      <td>0.0</td>\n",
       "    </tr>\n",
       "    <tr>\n",
       "      <th>5</th>\n",
       "      <td>17.0</td>\n",
       "      <td>13.0</td>\n",
       "      <td>-0.061467</td>\n",
       "      <td>-5.172414e-02</td>\n",
       "      <td>0.052642</td>\n",
       "      <td>2.0</td>\n",
       "      <td>-1.0</td>\n",
       "      <td>-2.0</td>\n",
       "      <td>0.0</td>\n",
       "      <td>0.0</td>\n",
       "      <td>...</td>\n",
       "      <td>-0.076923</td>\n",
       "      <td>-0.090909</td>\n",
       "      <td>-0.222222</td>\n",
       "      <td>0.0</td>\n",
       "      <td>9.0</td>\n",
       "      <td>2.0</td>\n",
       "      <td>0.0</td>\n",
       "      <td>0.0</td>\n",
       "      <td>0.382222</td>\n",
       "      <td>0.0</td>\n",
       "    </tr>\n",
       "  </tbody>\n",
       "</table>\n",
       "<p>5 rows × 4764 columns</p>\n",
       "</div>"
      ],
      "text/plain": [
       "variable  F_x__abs_energy  F_x__absolute_sum_of_changes  \\\n",
       "id                                                        \n",
       "1                    14.0                           2.0   \n",
       "2                    25.0                          14.0   \n",
       "3                    12.0                          10.0   \n",
       "4                    16.0                          17.0   \n",
       "5                    17.0                          13.0   \n",
       "\n",
       "variable  F_x__agg_autocorrelation__f_agg_\"mean\"  \\\n",
       "id                                                 \n",
       "1                                      -0.106351   \n",
       "2                                      -0.039098   \n",
       "3                                      -0.029815   \n",
       "4                                      -0.049773   \n",
       "5                                      -0.061467   \n",
       "\n",
       "variable  F_x__agg_autocorrelation__f_agg_\"median\"  \\\n",
       "id                                                   \n",
       "1                                    -7.206633e-02   \n",
       "2                                    -4.935275e-02   \n",
       "3                                     2.602085e-17   \n",
       "4                                    -6.417112e-02   \n",
       "5                                    -5.172414e-02   \n",
       "\n",
       "variable  F_x__agg_autocorrelation__f_agg_\"var\"  \\\n",
       "id                                                \n",
       "1                                      0.016879   \n",
       "2                                      0.088790   \n",
       "3                                      0.105435   \n",
       "4                                      0.143580   \n",
       "5                                      0.052642   \n",
       "\n",
       "variable  F_x__agg_linear_trend__f_agg_\"max\"__chunk_len_10__attr_\"intercept\"  \\\n",
       "id                                                                             \n",
       "1                                                       0.0                    \n",
       "2                                                       0.0                    \n",
       "3                                                       1.0                    \n",
       "4                                                       1.0                    \n",
       "5                                                       2.0                    \n",
       "\n",
       "variable  F_x__agg_linear_trend__f_agg_\"max\"__chunk_len_10__attr_\"rvalue\"  \\\n",
       "id                                                                          \n",
       "1                                                      -1.0                 \n",
       "2                                                       0.0                 \n",
       "3                                                      -1.0                 \n",
       "4                                                      -1.0                 \n",
       "5                                                      -1.0                 \n",
       "\n",
       "variable  F_x__agg_linear_trend__f_agg_\"max\"__chunk_len_10__attr_\"slope\"  \\\n",
       "id                                                                         \n",
       "1                                                      -1.0                \n",
       "2                                                       0.0                \n",
       "3                                                      -2.0                \n",
       "4                                                      -1.0                \n",
       "5                                                      -2.0                \n",
       "\n",
       "variable  F_x__agg_linear_trend__f_agg_\"max\"__chunk_len_10__attr_\"stderr\"  \\\n",
       "id                                                                          \n",
       "1                                                       0.0                 \n",
       "2                                                       0.0                 \n",
       "3                                                       0.0                 \n",
       "4                                                       0.0                 \n",
       "5                                                       0.0                 \n",
       "\n",
       "variable  F_x__agg_linear_trend__f_agg_\"max\"__chunk_len_50__attr_\"intercept\"  \\\n",
       "id                                                                             \n",
       "1                                                       0.0                    \n",
       "2                                                       0.0                    \n",
       "3                                                       0.0                    \n",
       "4                                                       0.0                    \n",
       "5                                                       0.0                    \n",
       "\n",
       "variable                      ...                       \\\n",
       "id                            ...                        \n",
       "1                             ...                        \n",
       "2                             ...                        \n",
       "3                             ...                        \n",
       "4                             ...                        \n",
       "5                             ...                        \n",
       "\n",
       "variable  T_z__time_reversal_asymmetry_statistic__lag_1  \\\n",
       "id                                                        \n",
       "1                                              0.000000   \n",
       "2                                              0.000000   \n",
       "3                                              0.000000   \n",
       "4                                              0.000000   \n",
       "5                                             -0.076923   \n",
       "\n",
       "variable  T_z__time_reversal_asymmetry_statistic__lag_2  \\\n",
       "id                                                        \n",
       "1                                              0.000000   \n",
       "2                                              0.000000   \n",
       "3                                             -0.090909   \n",
       "4                                             -0.181818   \n",
       "5                                             -0.090909   \n",
       "\n",
       "variable  T_z__time_reversal_asymmetry_statistic__lag_3  \\\n",
       "id                                                        \n",
       "1                                              0.000000   \n",
       "2                                              0.000000   \n",
       "3                                              0.000000   \n",
       "4                                              0.000000   \n",
       "5                                             -0.222222   \n",
       "\n",
       "variable  T_z__value_count__value_-inf  T_z__value_count__value_0  \\\n",
       "id                                                                  \n",
       "1                                  0.0                       15.0   \n",
       "2                                  0.0                       11.0   \n",
       "3                                  0.0                       11.0   \n",
       "4                                  0.0                        8.0   \n",
       "5                                  0.0                        9.0   \n",
       "\n",
       "variable  T_z__value_count__value_1  T_z__value_count__value_inf  \\\n",
       "id                                                                 \n",
       "1                               0.0                          0.0   \n",
       "2                               0.0                          0.0   \n",
       "3                               0.0                          0.0   \n",
       "4                               1.0                          0.0   \n",
       "5                               2.0                          0.0   \n",
       "\n",
       "variable  T_z__value_count__value_nan  T_z__variance  \\\n",
       "id                                                     \n",
       "1                                 0.0       0.000000   \n",
       "2                                 0.0       0.195556   \n",
       "3                                 0.0       0.195556   \n",
       "4                                 0.0       0.355556   \n",
       "5                                 0.0       0.382222   \n",
       "\n",
       "variable  T_z__variance_larger_than_standard_deviation  \n",
       "id                                                      \n",
       "1                                                  0.0  \n",
       "2                                                  0.0  \n",
       "3                                                  0.0  \n",
       "4                                                  0.0  \n",
       "5                                                  0.0  \n",
       "\n",
       "[5 rows x 4764 columns]"
      ]
     },
     "execution_count": 9,
     "metadata": {},
     "output_type": "execute_result"
    }
   ],
   "source": [
    "X.head()"
   ]
  },
  {
   "cell_type": "code",
   "execution_count": 10,
   "metadata": {},
   "outputs": [
    {
     "name": "stdout",
     "output_type": "stream",
     "text": [
      "<class 'pandas.core.frame.DataFrame'>\n",
      "Int64Index: 88 entries, 1 to 88\n",
      "Columns: 4764 entries, F_x__abs_energy to T_z__variance_larger_than_standard_deviation\n",
      "dtypes: float64(4764)\n",
      "memory usage: 3.2 MB\n"
     ]
    }
   ],
   "source": [
    "X.info()"
   ]
  },
  {
   "cell_type": "code",
   "execution_count": 11,
   "metadata": {},
   "outputs": [
    {
     "name": "stderr",
     "output_type": "stream",
     "text": [
      "Feature Extraction: 100%|██████████| 10/10 [00:30<00:00,  3.09s/it]\n"
     ]
    }
   ],
   "source": [
    "X_filtered = extract_relevant_features(df, y, \n",
    "                                       column_id='id', column_sort='time', \n",
    "                                       default_fc_parameters=extraction_settings)"
   ]
  },
  {
   "cell_type": "code",
   "execution_count": 12,
   "metadata": {
    "scrolled": true
   },
   "outputs": [
    {
     "data": {
      "text/html": [
       "<div>\n",
       "<style scoped>\n",
       "    .dataframe tbody tr th:only-of-type {\n",
       "        vertical-align: middle;\n",
       "    }\n",
       "\n",
       "    .dataframe tbody tr th {\n",
       "        vertical-align: top;\n",
       "    }\n",
       "\n",
       "    .dataframe thead th {\n",
       "        text-align: right;\n",
       "    }\n",
       "</style>\n",
       "<table border=\"1\" class=\"dataframe\">\n",
       "  <thead>\n",
       "    <tr style=\"text-align: right;\">\n",
       "      <th>variable</th>\n",
       "      <th>F_x__abs_energy</th>\n",
       "      <th>F_x__range_count__max_1__min_-1</th>\n",
       "      <th>F_y__abs_energy</th>\n",
       "      <th>T_y__standard_deviation</th>\n",
       "      <th>T_y__variance</th>\n",
       "      <th>F_x__fft_coefficient__coeff_1__attr_\"abs\"</th>\n",
       "      <th>T_y__fft_coefficient__coeff_1__attr_\"abs\"</th>\n",
       "      <th>T_y__abs_energy</th>\n",
       "      <th>F_z__standard_deviation</th>\n",
       "      <th>F_z__variance</th>\n",
       "      <th>...</th>\n",
       "      <th>T_z__large_standard_deviation__r_0.35000000000000003</th>\n",
       "      <th>T_z__quantile__q_0.9</th>\n",
       "      <th>F_z__agg_linear_trend__f_agg_\"max\"__chunk_len_5__attr_\"intercept\"</th>\n",
       "      <th>T_x__agg_autocorrelation__f_agg_\"mean\"</th>\n",
       "      <th>F_y__change_quantiles__f_agg_\"var\"__isabs_False__qh_1.0__ql_0.8</th>\n",
       "      <th>T_x__spkt_welch_density__coeff_5</th>\n",
       "      <th>T_y__agg_linear_trend__f_agg_\"min\"__chunk_len_5__attr_\"intercept\"</th>\n",
       "      <th>F_y__change_quantiles__f_agg_\"var\"__isabs_False__qh_0.6__ql_0.2</th>\n",
       "      <th>F_z__agg_linear_trend__f_agg_\"max\"__chunk_len_10__attr_\"intercept\"</th>\n",
       "      <th>F_z__change_quantiles__f_agg_\"var\"__isabs_False__qh_0.8__ql_0.4</th>\n",
       "    </tr>\n",
       "    <tr>\n",
       "      <th>id</th>\n",
       "      <th></th>\n",
       "      <th></th>\n",
       "      <th></th>\n",
       "      <th></th>\n",
       "      <th></th>\n",
       "      <th></th>\n",
       "      <th></th>\n",
       "      <th></th>\n",
       "      <th></th>\n",
       "      <th></th>\n",
       "      <th></th>\n",
       "      <th></th>\n",
       "      <th></th>\n",
       "      <th></th>\n",
       "      <th></th>\n",
       "      <th></th>\n",
       "      <th></th>\n",
       "      <th></th>\n",
       "      <th></th>\n",
       "      <th></th>\n",
       "      <th></th>\n",
       "    </tr>\n",
       "  </thead>\n",
       "  <tbody>\n",
       "    <tr>\n",
       "      <th>1</th>\n",
       "      <td>14.0</td>\n",
       "      <td>15.0</td>\n",
       "      <td>13.0</td>\n",
       "      <td>0.471405</td>\n",
       "      <td>0.222222</td>\n",
       "      <td>1.000000</td>\n",
       "      <td>1.165352</td>\n",
       "      <td>10.0</td>\n",
       "      <td>1.203698</td>\n",
       "      <td>1.448889</td>\n",
       "      <td>...</td>\n",
       "      <td>0.0</td>\n",
       "      <td>0.0</td>\n",
       "      <td>62.833333</td>\n",
       "      <td>-0.095589</td>\n",
       "      <td>0.209184</td>\n",
       "      <td>0.037795</td>\n",
       "      <td>-1.000000</td>\n",
       "      <td>0.000000</td>\n",
       "      <td>63.0</td>\n",
       "      <td>0.000000</td>\n",
       "    </tr>\n",
       "    <tr>\n",
       "      <th>2</th>\n",
       "      <td>25.0</td>\n",
       "      <td>13.0</td>\n",
       "      <td>76.0</td>\n",
       "      <td>2.054805</td>\n",
       "      <td>4.222222</td>\n",
       "      <td>0.624118</td>\n",
       "      <td>6.020261</td>\n",
       "      <td>90.0</td>\n",
       "      <td>4.333846</td>\n",
       "      <td>18.782222</td>\n",
       "      <td>...</td>\n",
       "      <td>1.0</td>\n",
       "      <td>0.0</td>\n",
       "      <td>64.666667</td>\n",
       "      <td>-0.054604</td>\n",
       "      <td>0.000000</td>\n",
       "      <td>0.319311</td>\n",
       "      <td>-1.000000</td>\n",
       "      <td>0.222222</td>\n",
       "      <td>70.0</td>\n",
       "      <td>2.666667</td>\n",
       "    </tr>\n",
       "    <tr>\n",
       "      <th>3</th>\n",
       "      <td>12.0</td>\n",
       "      <td>14.0</td>\n",
       "      <td>40.0</td>\n",
       "      <td>1.768867</td>\n",
       "      <td>3.128889</td>\n",
       "      <td>2.203858</td>\n",
       "      <td>8.235442</td>\n",
       "      <td>103.0</td>\n",
       "      <td>4.616877</td>\n",
       "      <td>21.315556</td>\n",
       "      <td>...</td>\n",
       "      <td>1.0</td>\n",
       "      <td>0.0</td>\n",
       "      <td>67.333333</td>\n",
       "      <td>-0.061050</td>\n",
       "      <td>0.000000</td>\n",
       "      <td>9.102780</td>\n",
       "      <td>-3.000000</td>\n",
       "      <td>0.250000</td>\n",
       "      <td>68.0</td>\n",
       "      <td>8.187500</td>\n",
       "    </tr>\n",
       "    <tr>\n",
       "      <th>4</th>\n",
       "      <td>16.0</td>\n",
       "      <td>10.0</td>\n",
       "      <td>60.0</td>\n",
       "      <td>2.669998</td>\n",
       "      <td>7.128889</td>\n",
       "      <td>0.844394</td>\n",
       "      <td>12.067855</td>\n",
       "      <td>124.0</td>\n",
       "      <td>3.833188</td>\n",
       "      <td>14.693333</td>\n",
       "      <td>...</td>\n",
       "      <td>0.0</td>\n",
       "      <td>0.0</td>\n",
       "      <td>63.666667</td>\n",
       "      <td>-0.133794</td>\n",
       "      <td>1.555556</td>\n",
       "      <td>56.910262</td>\n",
       "      <td>-3.166667</td>\n",
       "      <td>1.360000</td>\n",
       "      <td>66.0</td>\n",
       "      <td>1.000000</td>\n",
       "    </tr>\n",
       "    <tr>\n",
       "      <th>5</th>\n",
       "      <td>17.0</td>\n",
       "      <td>13.0</td>\n",
       "      <td>46.0</td>\n",
       "      <td>2.039608</td>\n",
       "      <td>4.160000</td>\n",
       "      <td>2.730599</td>\n",
       "      <td>6.445330</td>\n",
       "      <td>180.0</td>\n",
       "      <td>4.841487</td>\n",
       "      <td>23.440000</td>\n",
       "      <td>...</td>\n",
       "      <td>0.0</td>\n",
       "      <td>0.6</td>\n",
       "      <td>64.333333</td>\n",
       "      <td>-0.106108</td>\n",
       "      <td>0.000000</td>\n",
       "      <td>22.841805</td>\n",
       "      <td>-4.166667</td>\n",
       "      <td>1.040000</td>\n",
       "      <td>67.0</td>\n",
       "      <td>0.000000</td>\n",
       "    </tr>\n",
       "  </tbody>\n",
       "</table>\n",
       "<p>5 rows × 623 columns</p>\n",
       "</div>"
      ],
      "text/plain": [
       "variable  F_x__abs_energy  F_x__range_count__max_1__min_-1  F_y__abs_energy  \\\n",
       "id                                                                            \n",
       "1                    14.0                             15.0             13.0   \n",
       "2                    25.0                             13.0             76.0   \n",
       "3                    12.0                             14.0             40.0   \n",
       "4                    16.0                             10.0             60.0   \n",
       "5                    17.0                             13.0             46.0   \n",
       "\n",
       "variable  T_y__standard_deviation  T_y__variance  \\\n",
       "id                                                 \n",
       "1                        0.471405       0.222222   \n",
       "2                        2.054805       4.222222   \n",
       "3                        1.768867       3.128889   \n",
       "4                        2.669998       7.128889   \n",
       "5                        2.039608       4.160000   \n",
       "\n",
       "variable  F_x__fft_coefficient__coeff_1__attr_\"abs\"  \\\n",
       "id                                                    \n",
       "1                                          1.000000   \n",
       "2                                          0.624118   \n",
       "3                                          2.203858   \n",
       "4                                          0.844394   \n",
       "5                                          2.730599   \n",
       "\n",
       "variable  T_y__fft_coefficient__coeff_1__attr_\"abs\"  T_y__abs_energy  \\\n",
       "id                                                                     \n",
       "1                                          1.165352             10.0   \n",
       "2                                          6.020261             90.0   \n",
       "3                                          8.235442            103.0   \n",
       "4                                         12.067855            124.0   \n",
       "5                                          6.445330            180.0   \n",
       "\n",
       "variable  F_z__standard_deviation  F_z__variance  \\\n",
       "id                                                 \n",
       "1                        1.203698       1.448889   \n",
       "2                        4.333846      18.782222   \n",
       "3                        4.616877      21.315556   \n",
       "4                        3.833188      14.693333   \n",
       "5                        4.841487      23.440000   \n",
       "\n",
       "variable                               ...                                 \\\n",
       "id                                     ...                                  \n",
       "1                                      ...                                  \n",
       "2                                      ...                                  \n",
       "3                                      ...                                  \n",
       "4                                      ...                                  \n",
       "5                                      ...                                  \n",
       "\n",
       "variable  T_z__large_standard_deviation__r_0.35000000000000003  \\\n",
       "id                                                               \n",
       "1                                                       0.0      \n",
       "2                                                       1.0      \n",
       "3                                                       1.0      \n",
       "4                                                       0.0      \n",
       "5                                                       0.0      \n",
       "\n",
       "variable  T_z__quantile__q_0.9  \\\n",
       "id                               \n",
       "1                          0.0   \n",
       "2                          0.0   \n",
       "3                          0.0   \n",
       "4                          0.0   \n",
       "5                          0.6   \n",
       "\n",
       "variable  F_z__agg_linear_trend__f_agg_\"max\"__chunk_len_5__attr_\"intercept\"  \\\n",
       "id                                                                            \n",
       "1                                                 62.833333                   \n",
       "2                                                 64.666667                   \n",
       "3                                                 67.333333                   \n",
       "4                                                 63.666667                   \n",
       "5                                                 64.333333                   \n",
       "\n",
       "variable  T_x__agg_autocorrelation__f_agg_\"mean\"  \\\n",
       "id                                                 \n",
       "1                                      -0.095589   \n",
       "2                                      -0.054604   \n",
       "3                                      -0.061050   \n",
       "4                                      -0.133794   \n",
       "5                                      -0.106108   \n",
       "\n",
       "variable  F_y__change_quantiles__f_agg_\"var\"__isabs_False__qh_1.0__ql_0.8  \\\n",
       "id                                                                          \n",
       "1                                                  0.209184                 \n",
       "2                                                  0.000000                 \n",
       "3                                                  0.000000                 \n",
       "4                                                  1.555556                 \n",
       "5                                                  0.000000                 \n",
       "\n",
       "variable  T_x__spkt_welch_density__coeff_5  \\\n",
       "id                                           \n",
       "1                                 0.037795   \n",
       "2                                 0.319311   \n",
       "3                                 9.102780   \n",
       "4                                56.910262   \n",
       "5                                22.841805   \n",
       "\n",
       "variable  T_y__agg_linear_trend__f_agg_\"min\"__chunk_len_5__attr_\"intercept\"  \\\n",
       "id                                                                            \n",
       "1                                                 -1.000000                   \n",
       "2                                                 -1.000000                   \n",
       "3                                                 -3.000000                   \n",
       "4                                                 -3.166667                   \n",
       "5                                                 -4.166667                   \n",
       "\n",
       "variable  F_y__change_quantiles__f_agg_\"var\"__isabs_False__qh_0.6__ql_0.2  \\\n",
       "id                                                                          \n",
       "1                                                  0.000000                 \n",
       "2                                                  0.222222                 \n",
       "3                                                  0.250000                 \n",
       "4                                                  1.360000                 \n",
       "5                                                  1.040000                 \n",
       "\n",
       "variable  F_z__agg_linear_trend__f_agg_\"max\"__chunk_len_10__attr_\"intercept\"  \\\n",
       "id                                                                             \n",
       "1                                                      63.0                    \n",
       "2                                                      70.0                    \n",
       "3                                                      68.0                    \n",
       "4                                                      66.0                    \n",
       "5                                                      67.0                    \n",
       "\n",
       "variable  F_z__change_quantiles__f_agg_\"var\"__isabs_False__qh_0.8__ql_0.4  \n",
       "id                                                                         \n",
       "1                                                  0.000000                \n",
       "2                                                  2.666667                \n",
       "3                                                  8.187500                \n",
       "4                                                  1.000000                \n",
       "5                                                  0.000000                \n",
       "\n",
       "[5 rows x 623 columns]"
      ]
     },
     "execution_count": 12,
     "metadata": {},
     "output_type": "execute_result"
    }
   ],
   "source": [
    "X_filtered.head()"
   ]
  },
  {
   "cell_type": "code",
   "execution_count": 13,
   "metadata": {},
   "outputs": [
    {
     "name": "stdout",
     "output_type": "stream",
     "text": [
      "<class 'pandas.core.frame.DataFrame'>\n",
      "Int64Index: 88 entries, 1 to 88\n",
      "Columns: 623 entries, F_x__abs_energy to F_z__change_quantiles__f_agg_\"var\"__isabs_False__qh_0.8__ql_0.4\n",
      "dtypes: float64(623)\n",
      "memory usage: 429.0 KB\n"
     ]
    }
   ],
   "source": [
    "X_filtered.info()"
   ]
  },
  {
   "cell_type": "markdown",
   "metadata": {
    "collapsed": true
   },
   "source": [
    "## Train and evaluate classifier"
   ]
  },
  {
   "cell_type": "code",
   "execution_count": 14,
   "metadata": {},
   "outputs": [],
   "source": [
    "X_train, X_test, X_filtered_train, X_filtered_test, y_train, y_test = train_test_split(X, X_filtered, y, test_size=.4)"
   ]
  },
  {
   "cell_type": "code",
   "execution_count": 15,
   "metadata": {
    "scrolled": true
   },
   "outputs": [
    {
     "name": "stdout",
     "output_type": "stream",
     "text": [
      "             precision    recall  f1-score   support\n",
      "\n",
      "      False       0.97      1.00      0.98        29\n",
      "       True       1.00      0.86      0.92         7\n",
      "\n",
      "avg / total       0.97      0.97      0.97        36\n",
      "\n"
     ]
    }
   ],
   "source": [
    "cl = DecisionTreeClassifier()\n",
    "cl.fit(X_train, y_train)\n",
    "print(classification_report(y_test, cl.predict(X_test)))"
   ]
  },
  {
   "cell_type": "code",
   "execution_count": 16,
   "metadata": {},
   "outputs": [
    {
     "data": {
      "text/plain": [
       "4764"
      ]
     },
     "execution_count": 16,
     "metadata": {},
     "output_type": "execute_result"
    }
   ],
   "source": [
    "cl.n_features_"
   ]
  },
  {
   "cell_type": "code",
   "execution_count": 17,
   "metadata": {},
   "outputs": [
    {
     "name": "stdout",
     "output_type": "stream",
     "text": [
      "             precision    recall  f1-score   support\n",
      "\n",
      "      False       0.97      1.00      0.98        29\n",
      "       True       1.00      0.86      0.92         7\n",
      "\n",
      "avg / total       0.97      0.97      0.97        36\n",
      "\n"
     ]
    }
   ],
   "source": [
    "cl2 = DecisionTreeClassifier()\n",
    "cl2.fit(X_filtered_train, y_train)\n",
    "print(classification_report(y_test, cl2.predict(X_filtered_test)))"
   ]
  },
  {
   "cell_type": "code",
   "execution_count": 18,
   "metadata": {
    "scrolled": true
   },
   "outputs": [
    {
     "data": {
      "text/plain": [
       "623"
      ]
     },
     "execution_count": 18,
     "metadata": {},
     "output_type": "execute_result"
    }
   ],
   "source": [
    "cl2.n_features_"
   ]
  },
  {
   "cell_type": "markdown",
   "metadata": {},
   "source": [
    "Compared to using all features (`cl.n_features_`), using only the relevant features (`cl2.n_features_`) achieves better classification performance with less data."
   ]
  },
  {
   "cell_type": "markdown",
   "metadata": {},
   "source": [
    "# Extraction + filtering is the same as filtered extraction"
   ]
  },
  {
   "cell_type": "markdown",
   "metadata": {},
   "source": [
    "Above, we performed two feature extractions runs. A filtered one and a non filtered one. However, the results of the filtered is equal to just extracting all features and then filtering them."
   ]
  },
  {
   "cell_type": "code",
   "execution_count": 19,
   "metadata": {},
   "outputs": [],
   "source": [
    "X_filtered_2 = select_features(X, y)"
   ]
  },
  {
   "cell_type": "code",
   "execution_count": 20,
   "metadata": {},
   "outputs": [
    {
     "data": {
      "text/plain": [
       "True"
      ]
     },
     "execution_count": 20,
     "metadata": {},
     "output_type": "execute_result"
    }
   ],
   "source": [
    "(X_filtered.columns == X_filtered_2.columns).all()"
   ]
  },
  {
   "cell_type": "code",
   "execution_count": null,
   "metadata": {},
   "outputs": [],
   "source": []
  }
 ],
 "metadata": {
  "kernelspec": {
   "display_name": "Python [conda env:miniconda3]",
   "language": "python",
   "name": "conda-env-miniconda3-py"
  },
  "language_info": {
   "codemirror_mode": {
    "name": "ipython",
    "version": 3
   },
   "file_extension": ".py",
   "mimetype": "text/x-python",
   "name": "python",
   "nbconvert_exporter": "python",
   "pygments_lexer": "ipython3",
   "version": "3.6.5"
  }
 },
 "nbformat": 4,
 "nbformat_minor": 1
}
